{
 "cells": [
  {
   "cell_type": "markdown",
   "id": "941551fb-6913-4fe5-a11e-3a03671be0ba",
   "metadata": {},
   "source": [
    "Case Study"
   ]
  },
  {
   "cell_type": "code",
   "execution_count": 2,
   "id": "a9472e5f-6a2b-4b0b-9f07-594fc698910e",
   "metadata": {},
   "outputs": [],
   "source": [
    "from tabulate import tabulate\n",
    "from math import sqrt\n",
    "from scipy.spatial import distance\n",
    "\n",
    "#Existing data\n",
    "\n",
    "class Membership():\n",
    "    database = {\n",
    "    'Sumbul':'Platinum',\n",
    "    'Ana' : 'Gold',\n",
    "    'Cahya' : 'Platinum',\n",
    "    'Layudhi' : 'Silver'}\n",
    "    \n",
    "    def __init__(self, username : str):\n",
    "        self.username = username\n",
    "\n",
    "    def show_benefit(self):\n",
    "        data = [\n",
    "            ['Platinum', '15%', 'Benefit Silver + Gold + Voucher Liburan + Cashback max. 30%'],\n",
    "            ['Gold', '10%', 'Benefit Silver + Voucher Ojek Online'],\n",
    "            ['Silver', '8%', 'Voucher Makanan']\n",
    "        ]\n",
    "        headers = ['MEMBERSHIP', 'DISCOUNT', 'ANOTHER BENEFIT']\n",
    "        table_membership = tabulate(data, headers,tablefmt='github')\n",
    "        print('-------------------------')\n",
    "        print('Customer Membership Information')\n",
    "        print(' ')\n",
    "        print(table_membership)\n",
    "    \n",
    "\n",
    "    def show_req(self):\n",
    "        data = [\n",
    "            ['Platinum', '8', '15'],\n",
    "            ['Gold', '6', '10'],\n",
    "            ['Silver', '5', '7']\n",
    "        ]\n",
    "        headers = ['MEMBERSHIP', 'MONHTLY EXPENSE (JUTA)', 'MONTHLY INCOME (JUTA)']\n",
    "        table_requirement = tabulate(data, headers,tablefmt='github')\n",
    "        print('-------------------------')\n",
    "        print('Membership Requirement Information')\n",
    "        print(' ')\n",
    "        print(table_requirement)\n",
    "\n",
    "    def predict_member(self, monthly_expense, monthly_income):\n",
    "        checked_member = []\n",
    "        param = [[8,15],[6,10],[5,7]]\n",
    "        point =[monthly_expense, monthly_income]\n",
    "        for i in param:\n",
    "            dist = distance.euclidean(i, point).round(2)\n",
    "            checked_member.append(dist)\n",
    "\n",
    "        predict_dict = {\n",
    "            'Platinum' : checked_member[0],\n",
    "            'Gold' : checked_member[1],\n",
    "            'Silver' : checked_member[2]\n",
    "        }\n",
    "\n",
    "        print(f'The Euclidean Distance of {self.username} is : {predict_dict}')\n",
    "\n",
    "        for member_types, distances in predict_dict.items():\n",
    "            if distances == min(checked_member):\n",
    "                self.database[self.username] = member_types\n",
    "                return f'Suitable Member Type for {self.username} based on Euclidean Distance is : {member_types}'\n",
    "                \n",
    "            \n",
    "    def updated_membership(self, username):\n",
    "        if username in self.database:\n",
    "            print(self.database)\n",
    "            return f'Membership Type for {self.username} is {self.database.get(username)}'\n",
    "\n",
    "\n",
    "    def calculated_price(self, username, list_harga):\n",
    "        try:\n",
    "            if username in self.database:\n",
    "                member_type = self.database.get(self.username)\n",
    "                try:\n",
    "                    if member_type == 'Platinum':\n",
    "                        total_price = sum(list_harga) - (sum(list_harga) * 0.15)\n",
    "                        return f'Total Price that shall be pay as {member_type} member is : {total_price}'\n",
    "                    elif member_type == 'Gold':\n",
    "                        total_price = sum(list_harga) - (sum(list_harga) * 0.10)\n",
    "                        return f'Total Price that shall be pay as {member_type} member is : {total_price}'\n",
    "                    elif member_type == 'Silver':\n",
    "                        total_price = sum(list_harga) - (sum(list_harga) * 0.08)\n",
    "                        return f'Total Price that shall be pay as {member_type} member is : {total_price}'\n",
    "                    else:\n",
    "                        print('No Recorded Member Type in System')\n",
    "                except:\n",
    "                    print('No Recorded Member Type in System')\n",
    "            else:\n",
    "                print(f'No {self.username} in database')\n",
    "        except:\n",
    "            print('No Recorded Member Type in System')\n",
    "        \n",
    "                         "
   ]
  },
  {
   "cell_type": "code",
   "execution_count": 3,
   "id": "e41492b3-65a7-409c-85a5-da6443ca0fea",
   "metadata": {},
   "outputs": [
    {
     "name": "stdout",
     "output_type": "stream",
     "text": [
      "-------------------------\n",
      "Customer Membership Information\n",
      " \n",
      "| MEMBERSHIP   | DISCOUNT   | ANOTHER BENEFIT                                             |\n",
      "|--------------|------------|-------------------------------------------------------------|\n",
      "| Platinum     | 15%        | Benefit Silver + Gold + Voucher Liburan + Cashback max. 30% |\n",
      "| Gold         | 10%        | Benefit Silver + Voucher Ojek Online                        |\n",
      "| Silver       | 8%         | Voucher Makanan                                             |\n"
     ]
    }
   ],
   "source": [
    "user = Membership('Ana')\n",
    "user.show_benefit()"
   ]
  },
  {
   "cell_type": "code",
   "execution_count": 4,
   "id": "fce4a73f-e45a-4f47-aa24-9a1bccb9e624",
   "metadata": {},
   "outputs": [
    {
     "name": "stdout",
     "output_type": "stream",
     "text": [
      "-------------------------\n",
      "Membership Requirement Information\n",
      " \n",
      "| MEMBERSHIP   |   MONHTLY EXPENSE (JUTA) |   MONTHLY INCOME (JUTA) |\n",
      "|--------------|--------------------------|-------------------------|\n",
      "| Platinum     |                        8 |                      15 |\n",
      "| Gold         |                        6 |                      10 |\n",
      "| Silver       |                        5 |                       7 |\n"
     ]
    }
   ],
   "source": [
    "user.show_req()"
   ]
  },
  {
   "cell_type": "code",
   "execution_count": 5,
   "id": "d85014e9-a3e1-42e7-a002-527a20e765f2",
   "metadata": {},
   "outputs": [
    {
     "name": "stdout",
     "output_type": "stream",
     "text": [
      "The Euclidean Distance of Ana is : {'Platinum': 92.91, 'Gold': 94.34, 'Silver': 95.13}\n"
     ]
    },
    {
     "data": {
      "text/plain": [
       "'Suitable Member Type for Ana based on Euclidean Distance is : Platinum'"
      ]
     },
     "execution_count": 5,
     "metadata": {},
     "output_type": "execute_result"
    }
   ],
   "source": [
    "user.predict_member(100,2)"
   ]
  },
  {
   "cell_type": "code",
   "execution_count": 9,
   "id": "00691ff1-647d-4a06-9cba-e2776a90c8f3",
   "metadata": {},
   "outputs": [],
   "source": [
    "user.updated_membership('Toni')"
   ]
  },
  {
   "cell_type": "code",
   "execution_count": 7,
   "id": "32ed816f-5a69-4531-b0ef-78408265e746",
   "metadata": {},
   "outputs": [
    {
     "data": {
      "text/plain": [
       "'Total Price that shall be pay as Platinum member is : 637500.0'"
      ]
     },
     "execution_count": 7,
     "metadata": {},
     "output_type": "execute_result"
    }
   ],
   "source": [
    "user.calculated_price('Sumbul', [150_000, 200_000, 400_000])"
   ]
  },
  {
   "cell_type": "code",
   "execution_count": 8,
   "id": "e88937e8-6bce-4fc9-8b10-1402f7cbbaec",
   "metadata": {},
   "outputs": [
    {
     "data": {
      "text/plain": [
       "'Total Price that shall be pay as Platinum member is : 637500.0'"
      ]
     },
     "execution_count": 8,
     "metadata": {},
     "output_type": "execute_result"
    }
   ],
   "source": [
    "user.calculated_price('Ana', [150_000, 200_000, 400_000])"
   ]
  },
  {
   "cell_type": "code",
   "execution_count": null,
   "id": "38816500-e843-4c97-8734-b06a0caf1244",
   "metadata": {},
   "outputs": [],
   "source": []
  }
 ],
 "metadata": {
  "kernelspec": {
   "display_name": "Python 3 (ipykernel)",
   "language": "python",
   "name": "python3"
  },
  "language_info": {
   "codemirror_mode": {
    "name": "ipython",
    "version": 3
   },
   "file_extension": ".py",
   "mimetype": "text/x-python",
   "name": "python",
   "nbconvert_exporter": "python",
   "pygments_lexer": "ipython3",
   "version": "3.9.18"
  }
 },
 "nbformat": 4,
 "nbformat_minor": 5
}
